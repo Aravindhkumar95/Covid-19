{
 "cells": [
  {
   "cell_type": "code",
   "execution_count": 2,
   "metadata": {},
   "outputs": [
    {
     "name": "stderr",
     "output_type": "stream",
     "text": [
      "Using TensorFlow backend.\n"
     ]
    }
   ],
   "source": [
    "import pandas as pd\n",
    "import numpy as np\n",
    "from math import sqrt\n",
    "from sklearn.preprocessing import MinMaxScaler\n",
    "from sklearn.preprocessing import LabelEncoder\n",
    "from sklearn.metrics import mean_squared_error\n",
    "from keras.models import Sequential\n",
    "from keras.layers import Dense\n",
    "from keras.layers import LSTM"
   ]
  },
  {
   "cell_type": "code",
   "execution_count": 3,
   "metadata": {},
   "outputs": [],
   "source": [
    "Data_train = pd.read_csv(\"C:/Users/Surface/Documents/Mentorship/covid19-global-forecasting-week-4/train.csv\")\n",
    "Data_test = pd.read_csv(\"C:/Users/Surface/Documents/Mentorship/covid19-global-forecasting-week-4/test.csv\")"
   ]
  },
  {
   "cell_type": "code",
   "execution_count": 4,
   "metadata": {},
   "outputs": [
    {
     "data": {
      "text/html": [
       "<div>\n",
       "<style scoped>\n",
       "    .dataframe tbody tr th:only-of-type {\n",
       "        vertical-align: middle;\n",
       "    }\n",
       "\n",
       "    .dataframe tbody tr th {\n",
       "        vertical-align: top;\n",
       "    }\n",
       "\n",
       "    .dataframe thead th {\n",
       "        text-align: right;\n",
       "    }\n",
       "</style>\n",
       "<table border=\"1\" class=\"dataframe\">\n",
       "  <thead>\n",
       "    <tr style=\"text-align: right;\">\n",
       "      <th></th>\n",
       "      <th>Id</th>\n",
       "      <th>Province_State</th>\n",
       "      <th>Country_Region</th>\n",
       "      <th>Date</th>\n",
       "      <th>ConfirmedCases</th>\n",
       "      <th>Fatalities</th>\n",
       "    </tr>\n",
       "  </thead>\n",
       "  <tbody>\n",
       "    <tr>\n",
       "      <th>0</th>\n",
       "      <td>1</td>\n",
       "      <td>NaN</td>\n",
       "      <td>Afghanistan</td>\n",
       "      <td>2020-01-22</td>\n",
       "      <td>0.0</td>\n",
       "      <td>0.0</td>\n",
       "    </tr>\n",
       "    <tr>\n",
       "      <th>1</th>\n",
       "      <td>2</td>\n",
       "      <td>NaN</td>\n",
       "      <td>Afghanistan</td>\n",
       "      <td>2020-01-23</td>\n",
       "      <td>0.0</td>\n",
       "      <td>0.0</td>\n",
       "    </tr>\n",
       "    <tr>\n",
       "      <th>2</th>\n",
       "      <td>3</td>\n",
       "      <td>NaN</td>\n",
       "      <td>Afghanistan</td>\n",
       "      <td>2020-01-24</td>\n",
       "      <td>0.0</td>\n",
       "      <td>0.0</td>\n",
       "    </tr>\n",
       "    <tr>\n",
       "      <th>3</th>\n",
       "      <td>4</td>\n",
       "      <td>NaN</td>\n",
       "      <td>Afghanistan</td>\n",
       "      <td>2020-01-25</td>\n",
       "      <td>0.0</td>\n",
       "      <td>0.0</td>\n",
       "    </tr>\n",
       "    <tr>\n",
       "      <th>4</th>\n",
       "      <td>5</td>\n",
       "      <td>NaN</td>\n",
       "      <td>Afghanistan</td>\n",
       "      <td>2020-01-26</td>\n",
       "      <td>0.0</td>\n",
       "      <td>0.0</td>\n",
       "    </tr>\n",
       "  </tbody>\n",
       "</table>\n",
       "</div>"
      ],
      "text/plain": [
       "   Id Province_State Country_Region        Date  ConfirmedCases  Fatalities\n",
       "0   1            NaN    Afghanistan  2020-01-22             0.0         0.0\n",
       "1   2            NaN    Afghanistan  2020-01-23             0.0         0.0\n",
       "2   3            NaN    Afghanistan  2020-01-24             0.0         0.0\n",
       "3   4            NaN    Afghanistan  2020-01-25             0.0         0.0\n",
       "4   5            NaN    Afghanistan  2020-01-26             0.0         0.0"
      ]
     },
     "execution_count": 4,
     "metadata": {},
     "output_type": "execute_result"
    }
   ],
   "source": [
    "Data_train.head()"
   ]
  },
  {
   "cell_type": "code",
   "execution_count": 5,
   "metadata": {},
   "outputs": [
    {
     "data": {
      "text/html": [
       "<div>\n",
       "<style scoped>\n",
       "    .dataframe tbody tr th:only-of-type {\n",
       "        vertical-align: middle;\n",
       "    }\n",
       "\n",
       "    .dataframe tbody tr th {\n",
       "        vertical-align: top;\n",
       "    }\n",
       "\n",
       "    .dataframe thead th {\n",
       "        text-align: right;\n",
       "    }\n",
       "</style>\n",
       "<table border=\"1\" class=\"dataframe\">\n",
       "  <thead>\n",
       "    <tr style=\"text-align: right;\">\n",
       "      <th></th>\n",
       "      <th>ForecastId</th>\n",
       "      <th>Province_State</th>\n",
       "      <th>Country_Region</th>\n",
       "      <th>Date</th>\n",
       "    </tr>\n",
       "  </thead>\n",
       "  <tbody>\n",
       "    <tr>\n",
       "      <th>0</th>\n",
       "      <td>1</td>\n",
       "      <td>NaN</td>\n",
       "      <td>Afghanistan</td>\n",
       "      <td>2020-04-02</td>\n",
       "    </tr>\n",
       "    <tr>\n",
       "      <th>1</th>\n",
       "      <td>2</td>\n",
       "      <td>NaN</td>\n",
       "      <td>Afghanistan</td>\n",
       "      <td>2020-04-03</td>\n",
       "    </tr>\n",
       "    <tr>\n",
       "      <th>2</th>\n",
       "      <td>3</td>\n",
       "      <td>NaN</td>\n",
       "      <td>Afghanistan</td>\n",
       "      <td>2020-04-04</td>\n",
       "    </tr>\n",
       "    <tr>\n",
       "      <th>3</th>\n",
       "      <td>4</td>\n",
       "      <td>NaN</td>\n",
       "      <td>Afghanistan</td>\n",
       "      <td>2020-04-05</td>\n",
       "    </tr>\n",
       "    <tr>\n",
       "      <th>4</th>\n",
       "      <td>5</td>\n",
       "      <td>NaN</td>\n",
       "      <td>Afghanistan</td>\n",
       "      <td>2020-04-06</td>\n",
       "    </tr>\n",
       "  </tbody>\n",
       "</table>\n",
       "</div>"
      ],
      "text/plain": [
       "   ForecastId Province_State Country_Region        Date\n",
       "0           1            NaN    Afghanistan  2020-04-02\n",
       "1           2            NaN    Afghanistan  2020-04-03\n",
       "2           3            NaN    Afghanistan  2020-04-04\n",
       "3           4            NaN    Afghanistan  2020-04-05\n",
       "4           5            NaN    Afghanistan  2020-04-06"
      ]
     },
     "execution_count": 5,
     "metadata": {},
     "output_type": "execute_result"
    }
   ],
   "source": [
    "Data_test.head()"
   ]
  },
  {
   "cell_type": "code",
   "execution_count": 6,
   "metadata": {},
   "outputs": [],
   "source": [
    "#Converting the date column to Datetime Format\n",
    "Data_train['Date'] = pd.to_datetime(Data_train['Date'], format = '%Y-%m-%d')\n",
    "Data_test['Date'] = pd.to_datetime(Data_test['Date'], format = '%Y-%m-%d')"
   ]
  },
  {
   "cell_type": "code",
   "execution_count": 7,
   "metadata": {},
   "outputs": [
    {
     "name": "stdout",
     "output_type": "stream",
     "text": [
      "Starting Date for the Train Data: 2020-01-22 00:00:00\n",
      "Ending Date for the Train Data: 2020-04-12 00:00:00\n"
     ]
    }
   ],
   "source": [
    "#Checking the Start and End Date of Train Dataset\n",
    "Data_train_datestart = Data_train['Date'].min()\n",
    "Data_train_dateend = Data_train['Date'].max()\n",
    "print('Starting Date for the Train Data: {}' .format(Data_train_datestart))\n",
    "print('Ending Date for the Train Data: {}' .format(Data_train_dateend))"
   ]
  },
  {
   "cell_type": "code",
   "execution_count": 8,
   "metadata": {},
   "outputs": [
    {
     "name": "stdout",
     "output_type": "stream",
     "text": [
      "Starting Date for the Train Data: 2020-04-02 00:00:00\n",
      "Ending Date for the Train Data: 2020-05-14 00:00:00\n"
     ]
    }
   ],
   "source": [
    "#Checking the Start and End Date of Test Dataset\n",
    "Data_test_datestart = Data_test['Date'].min()\n",
    "Data_test_dateend = Data_test['Date'].max()\n",
    "print('Starting Date for the Train Data: {}' .format(Data_test_datestart))\n",
    "print('Ending Date for the Train Data: {}' .format(Data_test_dateend))"
   ]
  },
  {
   "cell_type": "code",
   "execution_count": 8,
   "metadata": {},
   "outputs": [],
   "source": [
    "#Function to remove the overlapping Dates from Train Dataset\n",
    "def remove_overlap_date(dframe, date = Data_test_datestart):\n",
    "    return dframe[dframe['Date'] < date]\n",
    "Data_train = remove_overlap_date(Data_train)"
   ]
  },
  {
   "cell_type": "code",
   "execution_count": 9,
   "metadata": {},
   "outputs": [],
   "source": [
    "#Date column as index and fill NA values with string NULL\n",
    "Data_train.set_index(\"Date\",inplace= True)\n",
    "Data_train.drop('Id',axis=1,inplace=True)\n",
    "Data_train['Province_State'] = Data_train['Province_State'].fillna('Null', inplace = True)"
   ]
  },
  {
   "cell_type": "code",
   "execution_count": 10,
   "metadata": {},
   "outputs": [],
   "source": [
    "Data_test.set_index(\"Date\",inplace= True)\n",
    "Data_test.drop('ForecastId',axis=1,inplace=True)\n",
    "Data_test['Province_State'] = Data_test['Province_State'].fillna('Null', inplace = True)"
   ]
  },
  {
   "cell_type": "code",
   "execution_count": 11,
   "metadata": {},
   "outputs": [],
   "source": [
    "#Converting Categorical value into Numerical Value\n",
    "LE = LabelEncoder()\n",
    "Data_train['Province_State'] = LE.fit_transform(Data_train['Province_State'])\n",
    "Data_train['Country_Region'] = LE.fit_transform(Data_train['Country_Region'])\n",
    "Data_test['Province_State'] = LE.fit_transform(Data_test['Province_State'])\n",
    "Data_test['Country_Region'] = LE.fit_transform(Data_test['Country_Region'])"
   ]
  },
  {
   "cell_type": "code",
   "execution_count": 12,
   "metadata": {},
   "outputs": [],
   "source": [
    "#Normalizing the input variables\n",
    "train_val = Data_train.values\n",
    "train_val = train_val.astype('float32')\n",
    "scale = MinMaxScaler(feature_range=(0,1))\n",
    "train_scaled = scale.fit_transform(train_val)"
   ]
  },
  {
   "cell_type": "code",
   "execution_count": 16,
   "metadata": {},
   "outputs": [],
   "source": [
    "test_val = Data_test.values\n",
    "test_val = test_val.astype('float32')\n",
    "test_scaled = scale.fit_transform(test_val)"
   ]
  },
  {
   "cell_type": "code",
   "execution_count": 13,
   "metadata": {},
   "outputs": [],
   "source": [
    "#Function to convert Time series to supervised learning\n",
    "def series_to_supervised(data, n_in=1, n_out=1, dropnan=True):\n",
    "    n_vars = 1 if type(data) is list else data.shape[1]  \n",
    "    df = pd.DataFrame(data)\n",
    "    cols, names = list(), list()\n",
    "    # input sequence (t-n, ... t-1)\n",
    "    for i in range(n_in, 0, -1):\n",
    "        cols.append(df.shift(i))\n",
    "        names += [('var%d(t-%d)' % (j+1, i)) for j in range(n_vars)]\n",
    "    # forecast sequence (t, t+1, ... t+n)\n",
    "    for i in range(0, n_out):\n",
    "        cols.append(df.shift(-i))\n",
    "        if i == 0:\n",
    "            names += [('var%d(t)' % (j+1)) for j in range(n_vars)]\n",
    "        else:\n",
    "            names += [('var%d(t+%d)' % (j+1, i)) for j in range(n_vars)]\n",
    "    # put it all together\n",
    "    agg = pd.concat(cols, axis=1)\n",
    "    agg.columns = names\n",
    "    # drop rows with NaN values\n",
    "    if dropnan:\n",
    "        agg.dropna(inplace=True)\n",
    "    return agg"
   ]
  },
  {
   "cell_type": "code",
   "execution_count": 14,
   "metadata": {},
   "outputs": [],
   "source": [
    "train_reframed = series_to_supervised(train_scaled,1,1)\n",
    "train_reframed.drop(train_reframed.columns[[4,5]], axis=1, inplace=True)"
   ]
  },
  {
   "cell_type": "code",
   "execution_count": 16,
   "metadata": {},
   "outputs": [
    {
     "name": "stdout",
     "output_type": "stream",
     "text": [
      "   var1(t-1)  var2(t-1)  var3(t-1)  var4(t-1)  var3(t)  var4(t)\n",
      "1        0.0        0.0        0.0        0.0      0.0      0.0\n",
      "2        0.0        0.0        0.0        0.0      0.0      0.0\n",
      "3        0.0        0.0        0.0        0.0      0.0      0.0\n",
      "4        0.0        0.0        0.0        0.0      0.0      0.0\n",
      "5        0.0        0.0        0.0        0.0      0.0      0.0\n"
     ]
    }
   ],
   "source": [
    "print(train_reframed.head())"
   ]
  },
  {
   "cell_type": "code",
   "execution_count": 20,
   "metadata": {},
   "outputs": [],
   "source": [
    "#split the train dataset into train and validation\n",
    "values = train_reframed.values\n",
    "train_size = int(len(values) * 0.70)\n",
    "train = values[:train_size, :]\n",
    "validation = values[train_size:, :]\n",
    "#split the input and Outputs for cases & Fatalities\n",
    "train_X, train_case, train_fatalities = train[:, :-2], train[:, -2], train[:, -1]\n",
    "validation_X, validation_case, validation_fatalities = validation[:, :-2], validation[:, -2], validation[:, -1]"
   ]
  },
  {
   "cell_type": "code",
   "execution_count": 31,
   "metadata": {},
   "outputs": [
    {
     "name": "stdout",
     "output_type": "stream",
     "text": [
      "(15555, 1, 4) (15555,) (15555,) (6667, 1, 4) (6667, 1) (6667,)\n"
     ]
    }
   ],
   "source": [
    "#reshape the inputs into 3 Dimensional\n",
    "train_X = train_X.reshape((train_X.shape[0], 1, train_X.shape[1]))\n",
    "validation_X = validation_X.reshape((validation_X.shape[0], 1, validation_X.shape[1]))\n",
    "print(train_X.shape, train_case.shape, train_fatalities.shape, validation_X.shape, validation_case.shape, validation_fatalities.shape)"
   ]
  },
  {
   "cell_type": "code",
   "execution_count": 23,
   "metadata": {},
   "outputs": [
    {
     "name": "stdout",
     "output_type": "stream",
     "text": [
      "WARNING:tensorflow:From C:\\Users\\Surface\\AppData\\Local\\Continuum\\anaconda3\\lib\\site-packages\\tensorflow\\python\\framework\\op_def_library.py:263: colocate_with (from tensorflow.python.framework.ops) is deprecated and will be removed in a future version.\n",
      "Instructions for updating:\n",
      "Colocations handled automatically by placer.\n",
      "WARNING:tensorflow:From C:\\Users\\Surface\\AppData\\Local\\Continuum\\anaconda3\\lib\\site-packages\\tensorflow\\python\\ops\\math_ops.py:3066: to_int32 (from tensorflow.python.ops.math_ops) is deprecated and will be removed in a future version.\n",
      "Instructions for updating:\n",
      "Use tf.cast instead.\n",
      "Train on 15555 samples, validate on 6667 samples\n",
      "Epoch 1/50\n",
      " - 5s - loss: 0.0052 - val_loss: 0.0040\n",
      "Epoch 2/50\n",
      " - 1s - loss: 0.0048 - val_loss: 0.0031\n",
      "Epoch 3/50\n",
      " - 1s - loss: 0.0045 - val_loss: 0.0029\n",
      "Epoch 4/50\n",
      " - 1s - loss: 0.0040 - val_loss: 0.0026\n",
      "Epoch 5/50\n",
      " - 1s - loss: 0.0037 - val_loss: 0.0041\n",
      "Epoch 6/50\n",
      " - 1s - loss: 0.0028 - val_loss: 0.0026\n",
      "Epoch 7/50\n",
      " - 1s - loss: 0.0023 - val_loss: 0.0045\n",
      "Epoch 8/50\n",
      " - 1s - loss: 0.0023 - val_loss: 0.0055\n",
      "Epoch 9/50\n",
      " - 1s - loss: 0.0021 - val_loss: 0.0046\n",
      "Epoch 10/50\n",
      " - 1s - loss: 0.0019 - val_loss: 0.0016\n",
      "Epoch 11/50\n",
      " - 1s - loss: 0.0022 - val_loss: 0.0022\n",
      "Epoch 12/50\n",
      " - 1s - loss: 0.0018 - val_loss: 0.0014\n",
      "Epoch 13/50\n",
      " - 1s - loss: 0.0017 - val_loss: 0.0025\n",
      "Epoch 14/50\n",
      " - 1s - loss: 0.0016 - val_loss: 0.0033\n",
      "Epoch 15/50\n",
      " - 1s - loss: 0.0015 - val_loss: 0.0021\n",
      "Epoch 16/50\n",
      " - 1s - loss: 0.0015 - val_loss: 0.0022\n",
      "Epoch 17/50\n",
      " - 1s - loss: 0.0014 - val_loss: 0.0029\n",
      "Epoch 18/50\n",
      " - 1s - loss: 0.0018 - val_loss: 0.0031\n",
      "Epoch 19/50\n",
      " - 1s - loss: 0.0012 - val_loss: 0.0018\n",
      "Epoch 20/50\n",
      " - 1s - loss: 0.0014 - val_loss: 0.0024\n",
      "Epoch 21/50\n",
      " - 1s - loss: 0.0014 - val_loss: 0.0013\n",
      "Epoch 22/50\n",
      " - 1s - loss: 0.0013 - val_loss: 0.0016\n",
      "Epoch 23/50\n",
      " - 1s - loss: 0.0015 - val_loss: 0.0019\n",
      "Epoch 24/50\n",
      " - 1s - loss: 0.0011 - val_loss: 0.0025\n",
      "Epoch 25/50\n",
      " - 1s - loss: 0.0015 - val_loss: 0.0030\n",
      "Epoch 26/50\n",
      " - 1s - loss: 0.0016 - val_loss: 0.0016\n",
      "Epoch 27/50\n",
      " - 1s - loss: 0.0019 - val_loss: 0.0017\n",
      "Epoch 28/50\n",
      " - 1s - loss: 0.0014 - val_loss: 0.0023\n",
      "Epoch 29/50\n",
      " - 1s - loss: 0.0013 - val_loss: 0.0011\n",
      "Epoch 30/50\n",
      " - 1s - loss: 0.0018 - val_loss: 0.0014\n",
      "Epoch 31/50\n",
      " - 1s - loss: 0.0012 - val_loss: 0.0022\n",
      "Epoch 32/50\n",
      " - 1s - loss: 0.0011 - val_loss: 0.0017\n",
      "Epoch 33/50\n",
      " - 1s - loss: 0.0014 - val_loss: 0.0010\n",
      "Epoch 34/50\n",
      " - 1s - loss: 0.0012 - val_loss: 0.0015\n",
      "Epoch 35/50\n",
      " - 1s - loss: 0.0013 - val_loss: 0.0010\n",
      "Epoch 36/50\n",
      " - 1s - loss: 0.0014 - val_loss: 0.0026\n",
      "Epoch 37/50\n",
      " - 1s - loss: 0.0012 - val_loss: 0.0027\n",
      "Epoch 38/50\n",
      " - 1s - loss: 0.0012 - val_loss: 0.0013\n",
      "Epoch 39/50\n",
      " - 1s - loss: 0.0012 - val_loss: 0.0046\n",
      "Epoch 40/50\n",
      " - 1s - loss: 0.0011 - val_loss: 0.0022\n",
      "Epoch 41/50\n",
      " - 1s - loss: 0.0012 - val_loss: 0.0011\n",
      "Epoch 42/50\n",
      " - 1s - loss: 0.0011 - val_loss: 0.0014\n",
      "Epoch 43/50\n",
      " - 1s - loss: 0.0012 - val_loss: 0.0014\n",
      "Epoch 44/50\n",
      " - 1s - loss: 0.0014 - val_loss: 0.0023\n",
      "Epoch 45/50\n",
      " - 1s - loss: 0.0012 - val_loss: 0.0029\n",
      "Epoch 46/50\n",
      " - 1s - loss: 0.0012 - val_loss: 0.0022\n",
      "Epoch 47/50\n",
      " - 1s - loss: 0.0012 - val_loss: 0.0012\n",
      "Epoch 48/50\n",
      " - 1s - loss: 0.0014 - val_loss: 0.0013\n",
      "Epoch 49/50\n",
      " - 1s - loss: 0.0011 - val_loss: 0.0013\n",
      "Epoch 50/50\n",
      " - 1s - loss: 0.0012 - val_loss: 0.0011\n"
     ]
    }
   ],
   "source": [
    "#Building the model for case\n",
    "model_case = Sequential()\n",
    "model_case.add(LSTM(50, input_shape=(train_X.shape[1], train_X.shape[2])))\n",
    "model_case.add(Dense(1))\n",
    "model_case.compile(loss='mae', optimizer='adam')\n",
    "# fit network\n",
    "cases = model_case.fit(train_X, train_case, epochs=50, batch_size=72, validation_data=(validation_X, validation_case), verbose=2, shuffle=False)"
   ]
  },
  {
   "cell_type": "code",
   "execution_count": 24,
   "metadata": {},
   "outputs": [
    {
     "name": "stdout",
     "output_type": "stream",
     "text": [
      "Train on 15555 samples, validate on 6667 samples\n",
      "Epoch 1/50\n",
      " - 4s - loss: 0.0022 - val_loss: 0.0020\n",
      "Epoch 2/50\n",
      " - 1s - loss: 0.0019 - val_loss: 0.0015\n",
      "Epoch 3/50\n",
      " - 1s - loss: 0.0019 - val_loss: 0.0019\n",
      "Epoch 4/50\n",
      " - 1s - loss: 0.0017 - val_loss: 0.0013\n",
      "Epoch 5/50\n",
      " - 1s - loss: 0.0014 - val_loss: 0.0013\n",
      "Epoch 6/50\n",
      " - 1s - loss: 0.0013 - val_loss: 8.6536e-04\n",
      "Epoch 7/50\n",
      " - 1s - loss: 0.0012 - val_loss: 9.4817e-04\n",
      "Epoch 8/50\n",
      " - 1s - loss: 0.0014 - val_loss: 0.0013\n",
      "Epoch 9/50\n",
      " - 1s - loss: 0.0013 - val_loss: 0.0017\n",
      "Epoch 10/50\n",
      " - 1s - loss: 0.0016 - val_loss: 0.0023\n",
      "Epoch 11/50\n",
      " - 1s - loss: 0.0011 - val_loss: 7.5402e-04\n",
      "Epoch 12/50\n",
      " - 1s - loss: 0.0014 - val_loss: 8.4560e-04\n",
      "Epoch 13/50\n",
      " - 1s - loss: 0.0011 - val_loss: 0.0025\n",
      "Epoch 14/50\n",
      " - 1s - loss: 0.0013 - val_loss: 0.0016\n",
      "Epoch 15/50\n",
      " - 1s - loss: 0.0012 - val_loss: 0.0030\n",
      "Epoch 16/50\n",
      " - 1s - loss: 0.0015 - val_loss: 0.0023\n",
      "Epoch 17/50\n",
      " - 1s - loss: 0.0013 - val_loss: 0.0010\n",
      "Epoch 18/50\n",
      " - 1s - loss: 0.0010 - val_loss: 6.5539e-04\n",
      "Epoch 19/50\n",
      " - 1s - loss: 0.0011 - val_loss: 0.0026\n",
      "Epoch 20/50\n",
      " - 1s - loss: 0.0011 - val_loss: 0.0018\n",
      "Epoch 21/50\n",
      " - 1s - loss: 0.0012 - val_loss: 0.0016\n",
      "Epoch 22/50\n",
      " - 1s - loss: 0.0012 - val_loss: 0.0018\n",
      "Epoch 23/50\n",
      " - 1s - loss: 0.0015 - val_loss: 6.2330e-04\n",
      "Epoch 24/50\n",
      " - 1s - loss: 9.1307e-04 - val_loss: 9.9501e-04\n",
      "Epoch 25/50\n",
      " - 1s - loss: 8.6846e-04 - val_loss: 0.0015\n",
      "Epoch 26/50\n",
      " - 1s - loss: 9.9040e-04 - val_loss: 9.3020e-04\n",
      "Epoch 27/50\n",
      " - 1s - loss: 9.5705e-04 - val_loss: 9.6662e-04\n",
      "Epoch 28/50\n",
      " - 1s - loss: 0.0011 - val_loss: 5.7970e-04\n",
      "Epoch 29/50\n",
      " - 1s - loss: 0.0010 - val_loss: 7.0862e-04\n",
      "Epoch 30/50\n",
      " - 1s - loss: 9.4605e-04 - val_loss: 0.0010\n",
      "Epoch 31/50\n",
      " - 1s - loss: 8.0144e-04 - val_loss: 8.9155e-04\n",
      "Epoch 32/50\n",
      " - 1s - loss: 0.0012 - val_loss: 0.0014\n",
      "Epoch 33/50\n",
      " - 1s - loss: 0.0011 - val_loss: 0.0028\n",
      "Epoch 34/50\n",
      " - 1s - loss: 7.8787e-04 - val_loss: 7.1023e-04\n",
      "Epoch 35/50\n",
      " - 1s - loss: 9.0067e-04 - val_loss: 6.4033e-04\n",
      "Epoch 36/50\n",
      " - 1s - loss: 8.4528e-04 - val_loss: 6.5454e-04\n",
      "Epoch 37/50\n",
      " - 1s - loss: 7.3810e-04 - val_loss: 4.3434e-04\n",
      "Epoch 38/50\n",
      " - 1s - loss: 7.8701e-04 - val_loss: 0.0010\n",
      "Epoch 39/50\n",
      " - 1s - loss: 8.6158e-04 - val_loss: 0.0011\n",
      "Epoch 40/50\n",
      " - 1s - loss: 8.1726e-04 - val_loss: 9.6206e-04\n",
      "Epoch 41/50\n",
      " - 1s - loss: 6.6272e-04 - val_loss: 0.0013\n",
      "Epoch 42/50\n",
      " - 1s - loss: 8.4829e-04 - val_loss: 0.0011\n",
      "Epoch 43/50\n",
      " - 1s - loss: 0.0010 - val_loss: 0.0015\n",
      "Epoch 44/50\n",
      " - 1s - loss: 6.0966e-04 - val_loss: 9.4754e-04\n",
      "Epoch 45/50\n",
      " - 1s - loss: 7.3524e-04 - val_loss: 0.0014\n",
      "Epoch 46/50\n",
      " - 1s - loss: 8.0890e-04 - val_loss: 0.0018\n",
      "Epoch 47/50\n",
      " - 1s - loss: 6.8361e-04 - val_loss: 0.0015\n",
      "Epoch 48/50\n",
      " - 1s - loss: 7.5757e-04 - val_loss: 5.0866e-04\n",
      "Epoch 49/50\n",
      " - 1s - loss: 6.3960e-04 - val_loss: 0.0010\n",
      "Epoch 50/50\n",
      " - 1s - loss: 7.0457e-04 - val_loss: 6.4133e-04\n"
     ]
    }
   ],
   "source": [
    "#Building the model for Fatalities\n",
    "model_fatalities = Sequential()\n",
    "model_fatalities.add(LSTM(50, input_shape=(train_X.shape[1], train_X.shape[2])))\n",
    "model_fatalities.add(Dense(1))\n",
    "model_fatalities.compile(loss='mae', optimizer='adam')\n",
    "# fit network\n",
    "fatalities = model_fatalities.fit(train_X, train_fatalities, epochs=50, batch_size=72, validation_data=(validation_X, validation_fatalities), verbose=2, shuffle=False)"
   ]
  },
  {
   "cell_type": "code",
   "execution_count": 25,
   "metadata": {},
   "outputs": [],
   "source": [
    "# Case prediction \n",
    "val_case = model_case.predict(validation_X)\n",
    "validation_X = validation_X.reshape((validation_X.shape[0],validation_X.shape[2]))\n",
    "#invert scaling for forecast\n",
    "inv_val_case = np.concatenate((val_case,validation_X[:,1:]),axis = 1)\n",
    "inv_val_case = scale.inverse_transform(inv_val_case)\n",
    "inv_val_case = inv_val_case[:,0]\n",
    "#invert scaling for actual\n",
    "validation_case = validation_case.reshape((len(validation_case),1))\n",
    "inv_validation_case = np.concatenate((validation_case,validation_X[:,1:]),axis = 1)\n",
    "inv_validation_case = scale.inverse_transform(inv_validation_case)\n",
    "inv_validation_case = inv_validation_case[:,0]"
   ]
  },
  {
   "cell_type": "code",
   "execution_count": 29,
   "metadata": {},
   "outputs": [
    {
     "name": "stdout",
     "output_type": "stream",
     "text": [
      "Test RMSE: 0.016\n"
     ]
    }
   ],
   "source": [
    "# calculate RMSE for case\n",
    "rmse = sqrt(mean_squared_error(inv_validation_case, inv_val_case))\n",
    "print('Test RMSE: %.3f' % rmse)"
   ]
  },
  {
   "cell_type": "code",
   "execution_count": 32,
   "metadata": {},
   "outputs": [],
   "source": [
    "# Fatalities prediction\n",
    "val_fatalities = model_fatalities.predict(validation_X)\n",
    "validation_X = validation_X.reshape((validation_X.shape[0],validation_X.shape[2]))\n",
    "#invert scaling for forecast\n",
    "inv_val_fatalities = np.concatenate((val_fatalities,validation_X[:,1:]),axis = 1)\n",
    "inv_val_fatalities = scale.inverse_transform(inv_val_fatalities)\n",
    "inv_val_fatalities = inv_val_fatalities[:,0]\n",
    "#invert scaling for actual\n",
    "validation_fatalities = validation_fatalities.reshape((len(validation_case),1))\n",
    "inv_validation_fatalities = np.concatenate((validation_fatalities,validation_X[:,1:]),axis = 1)\n",
    "inv_validation_fatalities = scale.inverse_transform(inv_validation_fatalities)\n",
    "inv_validation_fatalities = inv_validation_fatalities[:,0]"
   ]
  },
  {
   "cell_type": "code",
   "execution_count": 33,
   "metadata": {},
   "outputs": [
    {
     "name": "stdout",
     "output_type": "stream",
     "text": [
      "Test RMSE: 0.011\n"
     ]
    }
   ],
   "source": [
    "# calculate RMSE for fatalities\n",
    "rmse_fatalities = sqrt(mean_squared_error(inv_val_fatalities, inv_validation_fatalities))\n",
    "print('Test RMSE: %.3f' % rmse_fatalities)"
   ]
  },
  {
   "cell_type": "code",
   "execution_count": 32,
   "metadata": {},
   "outputs": [],
   "source": []
  },
  {
   "cell_type": "code",
   "execution_count": null,
   "metadata": {},
   "outputs": [],
   "source": []
  }
 ],
 "metadata": {
  "kernelspec": {
   "display_name": "Python 3",
   "language": "python",
   "name": "python3"
  },
  "language_info": {
   "codemirror_mode": {
    "name": "ipython",
    "version": 3
   },
   "file_extension": ".py",
   "mimetype": "text/x-python",
   "name": "python",
   "nbconvert_exporter": "python",
   "pygments_lexer": "ipython3",
   "version": "3.7.3"
  }
 },
 "nbformat": 4,
 "nbformat_minor": 2
}
